{
 "cells": [
  {
   "cell_type": "code",
   "execution_count": 1,
   "metadata": {},
   "outputs": [],
   "source": [
    "%load_ext autoreload\n",
    "%autoreload 2"
   ]
  },
  {
   "cell_type": "code",
   "execution_count": 2,
   "metadata": {},
   "outputs": [],
   "source": [
    "import typing\n",
    "from typing import Type\n",
    "\n",
    "import numpy as np\n",
    "import torch\n",
    "\n",
    "from devinterp.optim import SGLD\n",
    "from devinterp.slt.sampler import estimate_learning_coeff_with_summary\n",
    "from devinterp.utils import Outputs\n",
    "from devinterp.vis_utils import EpsilonBetaAnalyzer\n",
    "\n",
    "\n",
    "from dgp import get_dataloader\n",
    "from model import GPT"
   ]
  },
  {
   "cell_type": "code",
   "execution_count": 3,
   "metadata": {},
   "outputs": [],
   "source": [
    "def load_model_for_iteration(it, dirname, epoch = 0, device = 'cuda' if torch.cuda.is_available() else 'cpu'):\n",
    "    fname = f'ckpt_epoch_{epoch}_iter_{it}.pt'\n",
    "    return torch.load(f'{dirname}/{fname}', map_location=device)"
   ]
  },
  {
   "cell_type": "code",
   "execution_count": 4,
   "metadata": {},
   "outputs": [
    {
     "name": "stderr",
     "output_type": "stream",
     "text": [
      "/var/folders/_k/_46xyqdj165bdcyw79k6758w0000gn/T/ipykernel_70484/3739957726.py:3: FutureWarning: You are using `torch.load` with `weights_only=False` (the current default value), which uses the default pickle module implicitly. It is possible to construct malicious pickle data which will execute arbitrary code during unpickling (See https://github.com/pytorch/pytorch/blob/main/SECURITY.md#untrusted-models for more details). In a future release, the default value for `weights_only` will be flipped to `True`. This limits the functions that could be executed during unpickling. Arbitrary objects will no longer be allowed to be loaded via this mode unless they are explicitly allowlisted by the user via `torch.serialization.add_safe_globals`. We recommend you start setting `weights_only=True` for any use case where you don't have full control of the loaded file. Please open an issue on GitHub for any issues related to this experimental feature.\n",
      "  return torch.load(f'{dirname}/{fname}', map_location=device)\n"
     ]
    }
   ],
   "source": [
    "model_info = load_model_for_iteration(2, 'results/scratch/tx0a4k6g', epoch = 0)"
   ]
  },
  {
   "cell_type": "code",
   "execution_count": 5,
   "metadata": {},
   "outputs": [],
   "source": [
    "class modelcfg:\n",
    "    compile = False\n",
    "    context_size = 256\n",
    "    n_layer = 2\n",
    "    n_head = 2\n",
    "    n_embd = 128\n",
    "    dropout = 0.0\n",
    "    bias = False\n",
    "    mlp = True\n",
    "\n",
    "class datacfg:\n",
    "    n_relative_properties = 100\n",
    "    n_descriptive_properties = 460\n",
    "    n_descriptive_values = 40\n",
    "    n_entities = 100\n",
    "    num_of_classes_to_divide_over = 10\n",
    "    prior_param = 0.1\n",
    "    props_prior_type = 'structured_zeros'\n",
    "    instr_ratio = 0.8\n",
    "    max_sample_length = 128\n",
    "    num_iters = 1e5\n",
    "    batch_size = 128 \n",
    "    num_workers = 0"
   ]
  },
  {
   "cell_type": "code",
   "execution_count": 6,
   "metadata": {},
   "outputs": [],
   "source": [
    "class configClass:\n",
    "    seed = 2\n",
    "    model = modelcfg()\n",
    "    data = datacfg()\n",
    "    device = 'cuda' if torch.cuda.is_available() else 'cpu'\n",
    "\n",
    "config = configClass()"
   ]
  },
  {
   "cell_type": "code",
   "execution_count": 7,
   "metadata": {},
   "outputs": [],
   "source": [
    "dataloader = get_dataloader(\n",
    "    n_relative_properties=config.data.n_relative_properties,\n",
    "    n_descriptive_properties=config.data.n_descriptive_properties,\n",
    "    n_descriptive_values=config.data.n_descriptive_values,\n",
    "    num_of_classes_to_divide_over=config.data.num_of_classes_to_divide_over,\n",
    "    prior_param=config.data.prior_param,\n",
    "    props_prior_type=config.data.props_prior_type,\n",
    "    n_entities=config.data.n_entities,\n",
    "    instr_ratio=config.data.instr_ratio,\n",
    "    max_sample_length=config.data.max_sample_length,\n",
    "    num_iters=config.data.num_iters * config.data.batch_size,\n",
    "    batch_size=config.data.batch_size,\n",
    "    num_workers=config.data.num_workers,\n",
    "    seed=config.seed,\n",
    ")"
   ]
  },
  {
   "cell_type": "code",
   "execution_count": 8,
   "metadata": {},
   "outputs": [],
   "source": [
    "model = GPT(config.model, dataloader.dataset.PCSG.vocab_size)"
   ]
  },
  {
   "cell_type": "code",
   "execution_count": 26,
   "metadata": {},
   "outputs": [],
   "source": [
    "import torch.nn.functional as F\n",
    "from utils import move_to_device\n",
    "\n",
    "pad_token_id = dataloader.dataset.pad_token_id\n",
    "def evaluate_fn(model, data):\n",
    "    sequences, symb_sequences, seq_lengths, seq_logprobs, _  = data\n",
    "    B = sequences.size(0)\n",
    "    inputs, labels = move_to_device([sequences[:,:-1], sequences[:,1:]], config.device)\n",
    "    labels = labels.clone()\n",
    "    labels[labels == pad_token_id] = -100  # Mask padding\n",
    "    logits = model(inputs)  # (B, L-1, V)\n",
    "    loss = F.cross_entropy(\n",
    "        logits.reshape(-1, logits.size(-1)),\n",
    "        labels.reshape(-1),\n",
    "        ignore_index=-100,\n",
    "        reduction='none'\n",
    "        ) # (B*L-1)\n",
    "    loss = loss.reshape(B, -1).mean() \n",
    "    return loss, {}"
   ]
  },
  {
   "cell_type": "code",
   "execution_count": 10,
   "metadata": {},
   "outputs": [],
   "source": [
    "def estimate_llc_given_model(\n",
    "    model: torch.nn.Module,\n",
    "    loader: torch.utils.data.DataLoader,\n",
    "    evaluate: typing.Callable,\n",
    "    epsilon: float,\n",
    "    beta: float,\n",
    "    sampling_method: Type[torch.optim.Optimizer] = SGLD,\n",
    "    localization: float = 100.0,\n",
    "    num_chains: int = 5,\n",
    "    num_draws: int = 300,\n",
    "    num_burnin_steps: int = 0,\n",
    "    num_steps_bw_draws: int = 1,\n",
    "    device: torch.device = torch.device(\"cpu\"),\n",
    "    online: bool = True,\n",
    "    verbose: bool = False,\n",
    "):\n",
    "    sweep_stats = estimate_learning_coeff_with_summary(\n",
    "        model,\n",
    "        loader=loader,\n",
    "        evaluate=evaluate,\n",
    "        sampling_method=sampling_method,\n",
    "        optimizer_kwargs=dict(lr=epsilon, localization=localization, nbeta=beta),\n",
    "        num_chains=num_chains,  # How many independent chains to run\n",
    "        num_draws=num_draws,  # How many samples to draw per chain\n",
    "        num_burnin_steps=num_burnin_steps,  # How many samples to discard at the beginning of each chain\n",
    "        num_steps_bw_draws=num_steps_bw_draws,  # How many steps to take between each sample\n",
    "        device=device,\n",
    "        online=online,\n",
    "        verbose=verbose,\n",
    "    )\n",
    "\n",
    "    sweep_stats[\"llc/trace\"] = np.array(sweep_stats[\"llc/trace\"])\n",
    "    return sweep_stats"
   ]
  },
  {
   "cell_type": "code",
   "execution_count": 21,
   "metadata": {},
   "outputs": [
    {
     "name": "stdout",
     "output_type": "stream",
     "text": [
      "(tensor([1.6524, 1.3355, 1.2542, 1.2507, 1.2550, 2.5033, 2.0303, 2.6794, 1.0213,\n",
      "        0.9344, 2.5077, 1.4020, 1.2489, 1.5605, 0.9323, 2.4930, 1.2510, 1.8688,\n",
      "        1.2473, 1.2522, 1.5683, 1.4128, 1.5596, 1.2506, 0.9384, 1.6465, 1.4054,\n",
      "        1.5553, 1.2573, 1.4103, 0.9306, 2.1877, 1.2576, 1.8736, 4.6827, 1.1718,\n",
      "        2.2553, 1.0220, 1.8711, 1.2460, 1.0210, 0.9403, 0.9311, 3.7299, 1.2570,\n",
      "        1.0198, 1.5526, 1.7133, 1.4072, 1.1841, 1.5742, 0.9407, 1.0966, 1.2432,\n",
      "        1.1011, 1.5002, 0.9306, 1.1691, 2.0317, 1.1819, 1.0913, 1.2613, 1.0901,\n",
      "        1.5583, 0.8598, 1.8004, 1.2568, 1.2561, 1.7272, 1.5683, 0.9394, 3.2715,\n",
      "        0.9335, 1.0128, 1.2438, 3.5984, 1.0947, 1.0351, 0.9350, 1.7110, 1.4045,\n",
      "        1.2592, 2.7183, 1.0263, 3.8890, 1.4931, 0.9389, 1.1781, 2.0471, 1.0212,\n",
      "        1.2586, 0.9284, 1.2574, 1.8647, 1.5488, 1.3260, 1.2442, 1.0201, 1.8777,\n",
      "        1.8766, 3.5798, 1.2548, 0.9314, 1.4752, 2.6526, 1.7247, 1.1709, 1.2625,\n",
      "        1.4092, 2.5129, 1.0910, 1.2497, 1.4005, 0.8529, 1.8632, 2.4910, 1.2557,\n",
      "        1.5681, 1.0235, 1.0229, 2.4807, 1.3315, 1.2608, 2.4150, 1.7177, 1.3298,\n",
      "        2.9417, 1.1672], grad_fn=<MeanBackward1>), {})\n"
     ]
    }
   ],
   "source": [
    "for i in dataloader:\n",
    "    a = evaluate_fn(model, i)\n",
    "    print(a)\n",
    "    break"
   ]
  },
  {
   "cell_type": "code",
   "execution_count": 29,
   "metadata": {},
   "outputs": [
    {
     "name": "stderr",
     "output_type": "stream",
     "text": [
      "  0%|          | 0/64 [00:00<?, ?it/s]"
     ]
    }
   ],
   "source": [
    "analyzer = EpsilonBetaAnalyzer()\n",
    "analyzer.configure_sweep(\n",
    "    llc_estimator=estimate_llc_given_model,\n",
    "    llc_estimator_kwargs=dict(\n",
    "        model=model, loader=dataloader, evaluate=evaluate_fn, device=config.device\n",
    "    ),\n",
    "    min_epsilon=1e-6,\n",
    "    max_epsilon=1e-2,\n",
    "    epsilon_samples=8,\n",
    "    min_beta=None,\n",
    "    max_beta=None,\n",
    "    beta_samples=8,\n",
    "    dataloader=dataloader,\n",
    ")  # Automatically find a beta range from the optimal beta\n",
    "analyzer.sweep()"
   ]
  },
  {
   "cell_type": "code",
   "execution_count": null,
   "metadata": {},
   "outputs": [],
   "source": [
    "analyzer.sweep_df.head()"
   ]
  },
  {
   "cell_type": "code",
   "execution_count": null,
   "metadata": {},
   "outputs": [],
   "source": [
    "estimate_learning_coeff_with_summary(\n",
    "    model,\n",
    "    loader=dataloader,\n",
    "    evaluate=evaluate_fn,\n",
    "    sampling_method=SGLD,\n",
    "    optimizer_kwargs=dict(lr=1e-3, localization=1.0, nbeta=1.0),\n",
    "    num_chains=1,\n",
    "    num_draws=30,\n",
    "    num_burnin_steps=0,\n",
    "    num_steps_bw_draws=1,\n",
    "    device=config.device,\n",
    "    online=True,\n",
    "    verbose=True,\n",
    ")"
   ]
  }
 ],
 "metadata": {
  "kernelspec": {
   "display_name": ".venv",
   "language": "python",
   "name": "python3"
  },
  "language_info": {
   "codemirror_mode": {
    "name": "ipython",
    "version": 3
   },
   "file_extension": ".py",
   "mimetype": "text/x-python",
   "name": "python",
   "nbconvert_exporter": "python",
   "pygments_lexer": "ipython3",
   "version": "3.11.4"
  }
 },
 "nbformat": 4,
 "nbformat_minor": 2
}
